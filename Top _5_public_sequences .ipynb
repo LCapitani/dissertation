{
 "cells": [
  {
   "cell_type": "markdown",
   "metadata": {},
   "source": [
    "## Top 5 public sequences "
   ]
  },
  {
   "cell_type": "code",
   "execution_count": 1,
   "metadata": {},
   "outputs": [],
   "source": [
    "import pandas as pd\n",
    "p_overlap = pd.read_csv(\"/localdisk/home/s1533486/VDJtools/VDJtools_patient_files/RA_periphery_overlap.join.strict.table.txt\", sep='\\t')\n",
    "p_overlap = p_overlap.sort_values(by = ['occurences'], axis=0,  ascending = False).reset_index()\n",
    "max5 = p_overlap.head(5)\n",
    "top1 = max5.iloc[0]\n",
    "top2 = max5.iloc[1]\n",
    "top3 = max5.iloc[2]\n",
    "top4 = max5.iloc[3]\n",
    "top5 = max5.iloc[4]\n"
   ]
  },
  {
   "cell_type": "code",
   "execution_count": 2,
   "metadata": {},
   "outputs": [],
   "source": [
    "top1 = top1.loc[(top1!=0)]\n",
    "top2 = top2.loc[(top2!=0)]\n",
    "top3 = top3.loc[(top3!=0)]\n",
    "top4 = top4.loc[(top4!=0)]\n",
    "top5 = top5.loc[(top5!=0)]"
   ]
  },
  {
   "cell_type": "code",
   "execution_count": 3,
   "metadata": {},
   "outputs": [
    {
     "data": {
      "text/html": [
       "<div>\n",
       "<style scoped>\n",
       "    .dataframe tbody tr th:only-of-type {\n",
       "        vertical-align: middle;\n",
       "    }\n",
       "\n",
       "    .dataframe tbody tr th {\n",
       "        vertical-align: top;\n",
       "    }\n",
       "\n",
       "    .dataframe thead th {\n",
       "        text-align: right;\n",
       "    }\n",
       "</style>\n",
       "<table border=\"1\" class=\"dataframe\">\n",
       "  <thead>\n",
       "    <tr style=\"text-align: right;\">\n",
       "      <th></th>\n",
       "      <th>cdr3aa</th>\n",
       "      <th>occurences</th>\n",
       "      <th>patients</th>\n",
       "      <th>largest_frequency</th>\n",
       "    </tr>\n",
       "  </thead>\n",
       "  <tbody>\n",
       "    <tr>\n",
       "      <th>0</th>\n",
       "      <td>CAISPRLERLRFLEWFVW</td>\n",
       "      <td>5</td>\n",
       "      <td>pL,pD,pC,pB,pA</td>\n",
       "      <td>0.000017</td>\n",
       "    </tr>\n",
       "    <tr>\n",
       "      <th>1</th>\n",
       "      <td>CARGNNVVRCSGGVCYTDLGLDYW</td>\n",
       "      <td>4</td>\n",
       "      <td>pL,pK,pJ,pD</td>\n",
       "      <td>0.000018</td>\n",
       "    </tr>\n",
       "    <tr>\n",
       "      <th>2</th>\n",
       "      <td>CARDIHYIITWGWTLDYW</td>\n",
       "      <td>4</td>\n",
       "      <td>pL,pC,pB,pA</td>\n",
       "      <td>0.000126</td>\n",
       "    </tr>\n",
       "    <tr>\n",
       "      <th>3</th>\n",
       "      <td>CAREEVSTYHFNYW</td>\n",
       "      <td>3</td>\n",
       "      <td>A0025,A0010,A0007</td>\n",
       "      <td>0.191341</td>\n",
       "    </tr>\n",
       "    <tr>\n",
       "      <th>4</th>\n",
       "      <td>CAKRDFSEGGLSPNGLDYW</td>\n",
       "      <td>2</td>\n",
       "      <td>A0009,A0002</td>\n",
       "      <td>0.012227</td>\n",
       "    </tr>\n",
       "  </tbody>\n",
       "</table>\n",
       "</div>"
      ],
      "text/plain": [
       "                     cdr3aa  occurences           patients  largest_frequency\n",
       "0        CAISPRLERLRFLEWFVW           5     pL,pD,pC,pB,pA           0.000017\n",
       "1  CARGNNVVRCSGGVCYTDLGLDYW           4        pL,pK,pJ,pD           0.000018\n",
       "2        CARDIHYIITWGWTLDYW           4        pL,pC,pB,pA           0.000126\n",
       "3            CAREEVSTYHFNYW           3  A0025,A0010,A0007           0.191341\n",
       "4       CAKRDFSEGGLSPNGLDYW           2        A0009,A0002           0.012227"
      ]
     },
     "execution_count": 3,
     "metadata": {},
     "output_type": "execute_result"
    }
   ],
   "source": [
    "public_sequences = pd.DataFrame(columns = [\n",
    "    'cdr3aa','occurences','patients','largest_frequency'\n",
    "], data = [\n",
    "    [top1['cdr3aa'],top1['occurences'],'pL,pD,pC,pB,pA',top1[14:len(top1)].max()],\n",
    "    [top2['cdr3aa'],top2['occurences'],'pL,pK,pJ,pD',top2[14:len(top1)].max()],\n",
    "    [top3['cdr3aa'],top3['occurences'],'pL,pC,pB,pA',top3[15:len(top1)].max()],\n",
    "    [top4['cdr3aa'],top4['occurences'],'A0025,A0010,A0007',top4[15:len(top1)].max()],\n",
    "    [top5['cdr3aa'],top5['occurences'],'A0009,A0002',top5[15:len(top1)].max()],\n",
    "]\n",
    ")\n",
    "public_sequences"
   ]
  }
 ],
 "metadata": {
  "kernelspec": {
   "display_name": "Python 3",
   "language": "python",
   "name": "python3"
  },
  "language_info": {
   "codemirror_mode": {
    "name": "ipython",
    "version": 3
   },
   "file_extension": ".py",
   "mimetype": "text/x-python",
   "name": "python",
   "nbconvert_exporter": "python",
   "pygments_lexer": "ipython3",
   "version": "3.7.3"
  }
 },
 "nbformat": 4,
 "nbformat_minor": 2
}
