{
 "cells": [
  {
   "cell_type": "code",
   "execution_count": 1,
   "metadata": {},
   "outputs": [],
   "source": [
    "%matplotlib inline\n",
    "import pandas as pd\n",
    "import matplotlib.pyplot as plt\n",
    "import seaborn as sb\n",
    "all_data_with_freq =  pd.read_csv(\"/localdisk/home/s1533486/Synovium_PBMCs/immcantation/analysis_ready/all_data_with_muts_by_frequency.tab\", sep='\\t')\n",
    "all_data_with_muts =  pd.read_csv(\"/localdisk/home/s1533486/Synovium_PBMCs/immcantation/analysis_ready/all_data_with_muts.tab\", sep='\\t')\n",
    "#Dropping patient F due to monoclonal repertoire \n",
    "all_data_with_muts = all_data_with_muts[all_data_with_muts['PATIENT'] != 'F']\n",
    "all_data_with_freq = all_data_with_freq[all_data_with_freq['PATIENT'] != 'F']\n",
    "RAbaseline_data_freq = pd.read_csv(\"/localdisk/home/s1533486/RAbaseline/clones/RAbaseline_data_with_muts_by_frequency.tab\", sep='\\t')\n",
    "RAbaseline_data_muts = pd.read_csv(\"/localdisk/home/s1533486/RAbaseline/clones/RAbaseline_data_with_muts.tab\", sep='\\t')\n",
    "frames = [RAbaseline_data_freq,all_data_with_freq]\n",
    "mut_frames = [RAbaseline_data_muts, all_data_with_muts]\n",
    "full_dataset_freq = pd.concat(frames)\n",
    "full_dataset_muts = pd.concat(mut_frames)"
   ]
  },
  {
   "cell_type": "code",
   "execution_count": 2,
   "metadata": {},
   "outputs": [],
   "source": [
    "# Adding mutational_status column to patient data \n",
    "full_dataset_muts.loc[full_dataset_muts['MU_COUNT']  < 5, 'MUT_STATUS'] = 'Hypomutated'\n",
    "full_dataset_muts.loc[full_dataset_muts['MU_COUNT']  >= 5, 'MUT_STATUS'] = 'Hypermutated'\n",
    "full_dataset_muts['PATIENT_LOCATION'] = full_dataset_muts['PATIENT'] + '-' + full_dataset_muts['LOCATION']"
   ]
  },
  {
   "cell_type": "code",
   "execution_count": 3,
   "metadata": {},
   "outputs": [
    {
     "name": "stdout",
     "output_type": "stream",
     "text": [
      "26\n",
      "10\n"
     ]
    }
   ],
   "source": [
    "# How many patients use IGHV4-34?\n",
    "patients = full_dataset_muts[full_dataset_muts['LOCATION'] == 'Periphery']\n",
    "ighv4_34 = patients[patients['V_CALL_GENOTYPED'].astype(str).str.contains(\"IGHV4-34\")]\n",
    "print(len(patients['PATIENT'].unique()))\n",
    "print(len(ighv4_34['PATIENT'].unique()))"
   ]
  },
  {
   "cell_type": "code",
   "execution_count": 4,
   "metadata": {},
   "outputs": [
    {
     "name": "stdout",
     "output_type": "stream",
     "text": [
      "Hypomutated IGHV4-34 usage mean usage (%) =  2.3555907678024073 , 95% CI [ 0.318 , 4.393 ], SD = 2.65\n",
      "Hypermutated IGHV4-34 usage mean usage (%) =  3.7757502356961656 , 95% CI [ 1.774 , 5.777 ], SD = 2.394\n"
     ]
    }
   ],
   "source": [
    "patients = full_dataset_muts[full_dataset_muts['LOCATION'] == 'Periphery']\n",
    "ighv4_34 = patients[patients['V_CALL_GENOTYPED'].astype(str).str.contains(\"IGHV4-34\")]\n",
    "ighv434 = ighv4_34.groupby(['PATIENT','V_CALL_GENOTYPED'])['MUT_STATUS'].value_counts().reset_index(name='counts')\n",
    "ighv434 = ighv434.groupby(['PATIENT','MUT_STATUS'])['counts'].sum().reset_index(name='counts')\n",
    "counts = []\n",
    "for n in range(len(ighv434)):\n",
    "    state_reads = len(full_dataset_muts.loc[(full_dataset_muts['PATIENT'] == ighv434.iloc[n]['PATIENT']) & (full_dataset_muts['MUT_STATUS'] == ighv434.iloc[n]['MUT_STATUS'])])\n",
    "    new_count = ((ighv434.iloc[n]['counts']/state_reads)*100).astype(float)\n",
    "    counts.append(new_count)\n",
    "ighv434['counts'] = counts\n",
    "# Mean and confidence interval of IGHV4-34 hypomutated sequences\n",
    "import statsmodels.stats.api as sms\n",
    "import statistics\n",
    "ci = sms.DescrStatsW(ighv434[ighv434['MUT_STATUS'] == 'Hypomutated']['counts']).tconfint_mean(alpha=0.05)\n",
    "mean = ighv434[ighv434['MUT_STATUS'] == 'Hypomutated']['counts'].mean()\n",
    "std = statistics.stdev(ighv434.loc[ighv434['MUT_STATUS'] == 'Hypomutated','counts'])\n",
    "print('Hypomutated IGHV4-34 usage mean usage (%) = ', mean, ', 95% CI [',ci[0].round(3), ',',ci[1].round(3), '], SD =', round(std,3))\n",
    "\n",
    "ci = sms.DescrStatsW(ighv434[ighv434['MUT_STATUS'] == 'Hypermutated']['counts']).tconfint_mean(alpha=0.05)\n",
    "std = statistics.stdev(ighv434.loc[ighv434['MUT_STATUS'] == 'Hypermutated','counts'])\n",
    "mean = ighv434[ighv434['MUT_STATUS'] == 'Hypermutated']['counts'].mean()\n",
    "print('Hypermutated IGHV4-34 usage mean usage (%) = ', mean, ', 95% CI [',ci[0].round(3), ',',ci[1].round(3), '], SD =', round(std,3))"
   ]
  },
  {
   "cell_type": "code",
   "execution_count": 5,
   "metadata": {},
   "outputs": [
    {
     "name": "stdout",
     "output_type": "stream",
     "text": [
      "16\n",
      "1\n"
     ]
    }
   ],
   "source": [
    "# As above but for healthy donors\n",
    "donors = full_dataset_muts[full_dataset_muts['LOCATION'] == 'Healthy_Periphery']\n",
    "ighv4_34 = donors[donors['V_CALL_GENOTYPED'].astype(str).str.contains(\"IGHV4-34\")]\n",
    "print(len(donors['PATIENT'].unique()))\n",
    "print(len(ighv4_34['PATIENT'].unique()))"
   ]
  },
  {
   "cell_type": "code",
   "execution_count": 6,
   "metadata": {},
   "outputs": [
    {
     "data": {
      "text/html": [
       "<div>\n",
       "<style scoped>\n",
       "    .dataframe tbody tr th:only-of-type {\n",
       "        vertical-align: middle;\n",
       "    }\n",
       "\n",
       "    .dataframe tbody tr th {\n",
       "        vertical-align: top;\n",
       "    }\n",
       "\n",
       "    .dataframe thead th {\n",
       "        text-align: right;\n",
       "    }\n",
       "</style>\n",
       "<table border=\"1\" class=\"dataframe\">\n",
       "  <thead>\n",
       "    <tr style=\"text-align: right;\">\n",
       "      <th></th>\n",
       "      <th>PATIENT</th>\n",
       "      <th>MUT_STATUS</th>\n",
       "      <th>counts</th>\n",
       "    </tr>\n",
       "  </thead>\n",
       "  <tbody>\n",
       "    <tr>\n",
       "      <th>0</th>\n",
       "      <td>B6844</td>\n",
       "      <td>Hypermutated</td>\n",
       "      <td>0.941677</td>\n",
       "    </tr>\n",
       "    <tr>\n",
       "      <th>1</th>\n",
       "      <td>B6844</td>\n",
       "      <td>Hypomutated</td>\n",
       "      <td>0.625000</td>\n",
       "    </tr>\n",
       "  </tbody>\n",
       "</table>\n",
       "</div>"
      ],
      "text/plain": [
       "  PATIENT    MUT_STATUS    counts\n",
       "0   B6844  Hypermutated  0.941677\n",
       "1   B6844   Hypomutated  0.625000"
      ]
     },
     "execution_count": 6,
     "metadata": {},
     "output_type": "execute_result"
    }
   ],
   "source": [
    "#IGHV4-34 IN HD P\n",
    "ighv434 = ighv4_34.groupby(['PATIENT','V_CALL_GENOTYPED'])['MUT_STATUS'].value_counts().reset_index(name='counts')\n",
    "ighv434 = ighv434.groupby(['PATIENT','MUT_STATUS'])['counts'].sum().reset_index(name='counts')\n",
    "counts = []\n",
    "for n in range(len(ighv434)):\n",
    "    state_reads = len(full_dataset_muts.loc[(full_dataset_muts['PATIENT'] == ighv434.iloc[n]['PATIENT']) & (full_dataset_muts['MUT_STATUS'] == ighv434.iloc[n]['MUT_STATUS'])])\n",
    "    new_count = ((ighv434.iloc[n]['counts']/state_reads)*100).astype(float)\n",
    "    counts.append(new_count)\n",
    "ighv434['counts'] = counts\n",
    "ighv434\n",
    "#counts = %"
   ]
  }
 ],
 "metadata": {
  "kernelspec": {
   "display_name": "Python 3",
   "language": "python",
   "name": "python3"
  },
  "language_info": {
   "codemirror_mode": {
    "name": "ipython",
    "version": 3
   },
   "file_extension": ".py",
   "mimetype": "text/x-python",
   "name": "python",
   "nbconvert_exporter": "python",
   "pygments_lexer": "ipython3",
   "version": "3.7.3"
  }
 },
 "nbformat": 4,
 "nbformat_minor": 2
}
